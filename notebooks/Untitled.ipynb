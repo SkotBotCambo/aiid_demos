{
 "cells": [
  {
   "cell_type": "code",
   "execution_count": 1,
   "id": "496a4460-adc9-476e-8cd4-ba4393834aa6",
   "metadata": {},
   "outputs": [],
   "source": [
    "from tqdm.auto import tqdm\n",
    "import django\n",
    "from api.models import Incident, Report"
   ]
  },
  {
   "cell_type": "code",
   "execution_count": 2,
   "id": "e6c1807f-59e3-4239-a626-b919e6a401c4",
   "metadata": {},
   "outputs": [],
   "source": [
    "from django_pandas.io import read_frame"
   ]
  },
  {
   "cell_type": "code",
   "execution_count": 4,
   "id": "a943ccde-cb58-4fc9-9d3e-d56b8e5d89f6",
   "metadata": {},
   "outputs": [
    {
     "data": {
      "text/html": [
       "<div>\n",
       "<style scoped>\n",
       "    .dataframe tbody tr th:only-of-type {\n",
       "        vertical-align: middle;\n",
       "    }\n",
       "\n",
       "    .dataframe tbody tr th {\n",
       "        vertical-align: top;\n",
       "    }\n",
       "\n",
       "    .dataframe thead th {\n",
       "        text-align: right;\n",
       "    }\n",
       "</style>\n",
       "<table border=\"1\" class=\"dataframe\">\n",
       "  <thead>\n",
       "    <tr style=\"text-align: right;\">\n",
       "      <th></th>\n",
       "      <th>id</th>\n",
       "      <th>incident_id</th>\n",
       "      <th>date</th>\n",
       "      <th>algd_deployer</th>\n",
       "      <th>algd_developer</th>\n",
       "      <th>algd_harm</th>\n",
       "      <th>description</th>\n",
       "      <th>title</th>\n",
       "    </tr>\n",
       "  </thead>\n",
       "  <tbody>\n",
       "    <tr>\n",
       "      <th>0</th>\n",
       "      <td>552</td>\n",
       "      <td>23</td>\n",
       "      <td>2017-11-08 00:00:00+00:00</td>\n",
       "      <td>['navya', 'keolis-north-america']</td>\n",
       "      <td>['navya', 'keolis-north-america']</td>\n",
       "      <td>['navya', 'keolis-north-america', 'bus-passeng...</td>\n",
       "      <td>A self-driving public shuttle by Keolis North ...</td>\n",
       "      <td>Las Vegas Self-Driving Bus Involved in Accident</td>\n",
       "    </tr>\n",
       "    <tr>\n",
       "      <th>1</th>\n",
       "      <td>553</td>\n",
       "      <td>4</td>\n",
       "      <td>2018-03-18 00:00:00+00:00</td>\n",
       "      <td>['uber']</td>\n",
       "      <td>['uber']</td>\n",
       "      <td>['elaine-herzberg', 'pedestrians']</td>\n",
       "      <td>An Uber autonomous vehicle (AV) in autonomous ...</td>\n",
       "      <td>Uber AV Killed Pedestrian in Arizona</td>\n",
       "    </tr>\n",
       "    <tr>\n",
       "      <th>2</th>\n",
       "      <td>554</td>\n",
       "      <td>1</td>\n",
       "      <td>2015-05-19 00:00:00+00:00</td>\n",
       "      <td>['youtube']</td>\n",
       "      <td>['youtube']</td>\n",
       "      <td>['children']</td>\n",
       "      <td>YouTube’s content filtering and recommendation...</td>\n",
       "      <td>Google’s YouTube Kids App Presents Inappropria...</td>\n",
       "    </tr>\n",
       "    <tr>\n",
       "      <th>3</th>\n",
       "      <td>555</td>\n",
       "      <td>18</td>\n",
       "      <td>2015-04-04 00:00:00+00:00</td>\n",
       "      <td>['google']</td>\n",
       "      <td>['google']</td>\n",
       "      <td>['women']</td>\n",
       "      <td>Google Image returns results that under-repres...</td>\n",
       "      <td>Gender Biases of Google Image Search</td>\n",
       "    </tr>\n",
       "    <tr>\n",
       "      <th>4</th>\n",
       "      <td>556</td>\n",
       "      <td>12</td>\n",
       "      <td>2016-07-21 00:00:00+00:00</td>\n",
       "      <td>['microsoft-research', 'boston-university']</td>\n",
       "      <td>['microsoft-research', 'google', 'boston-unive...</td>\n",
       "      <td>['women', 'minority-groups']</td>\n",
       "      <td>Researchers from Boston University and Microso...</td>\n",
       "      <td>Common Biases of Vector Embeddings</td>\n",
       "    </tr>\n",
       "  </tbody>\n",
       "</table>\n",
       "</div>"
      ],
      "text/plain": [
       "    id  incident_id                      date  \\\n",
       "0  552           23 2017-11-08 00:00:00+00:00   \n",
       "1  553            4 2018-03-18 00:00:00+00:00   \n",
       "2  554            1 2015-05-19 00:00:00+00:00   \n",
       "3  555           18 2015-04-04 00:00:00+00:00   \n",
       "4  556           12 2016-07-21 00:00:00+00:00   \n",
       "\n",
       "                                 algd_deployer  \\\n",
       "0            ['navya', 'keolis-north-america']   \n",
       "1                                     ['uber']   \n",
       "2                                  ['youtube']   \n",
       "3                                   ['google']   \n",
       "4  ['microsoft-research', 'boston-university']   \n",
       "\n",
       "                                      algd_developer  \\\n",
       "0                  ['navya', 'keolis-north-america']   \n",
       "1                                           ['uber']   \n",
       "2                                        ['youtube']   \n",
       "3                                         ['google']   \n",
       "4  ['microsoft-research', 'google', 'boston-unive...   \n",
       "\n",
       "                                           algd_harm  \\\n",
       "0  ['navya', 'keolis-north-america', 'bus-passeng...   \n",
       "1                 ['elaine-herzberg', 'pedestrians']   \n",
       "2                                       ['children']   \n",
       "3                                          ['women']   \n",
       "4                       ['women', 'minority-groups']   \n",
       "\n",
       "                                         description  \\\n",
       "0  A self-driving public shuttle by Keolis North ...   \n",
       "1  An Uber autonomous vehicle (AV) in autonomous ...   \n",
       "2  YouTube’s content filtering and recommendation...   \n",
       "3  Google Image returns results that under-repres...   \n",
       "4  Researchers from Boston University and Microso...   \n",
       "\n",
       "                                               title  \n",
       "0    Las Vegas Self-Driving Bus Involved in Accident  \n",
       "1               Uber AV Killed Pedestrian in Arizona  \n",
       "2  Google’s YouTube Kids App Presents Inappropria...  \n",
       "3               Gender Biases of Google Image Search  \n",
       "4                 Common Biases of Vector Embeddings  "
      ]
     },
     "execution_count": 4,
     "metadata": {},
     "output_type": "execute_result"
    }
   ],
   "source": [
    "qs = Incident.objects.all()\n",
    "incidents_df = read_frame(qs)\n",
    "incidents_df.head(5)"
   ]
  },
  {
   "cell_type": "code",
   "execution_count": 12,
   "id": "f2a0a065-21c0-463d-80b6-b0b3dccb1ec2",
   "metadata": {},
   "outputs": [
    {
     "data": {
      "text/plain": [
       "'Las Vegas Self-Driving Bus Involved in Accident'"
      ]
     },
     "execution_count": 12,
     "metadata": {},
     "output_type": "execute_result"
    }
   ],
   "source": [
    "row['title']"
   ]
  },
  {
   "cell_type": "code",
   "execution_count": 8,
   "id": "f822182e-5f0c-44eb-a871-3c825b28f262",
   "metadata": {},
   "outputs": [
    {
     "data": {
      "text/plain": [
       "'A self-driving public shuttle by Keolis North America and Navya was involved in a collision with a human-driven delivery truck in Las Vegas, Nevada on its first day of service.'"
      ]
     },
     "execution_count": 8,
     "metadata": {},
     "output_type": "execute_result"
    }
   ],
   "source": [
    "row = incidents_df.iloc[0]\n",
    "row['description']"
   ]
  },
  {
   "cell_type": "code",
   "execution_count": 9,
   "id": "0b4b08c5-8ef0-48bf-8c09-18044e32e85b",
   "metadata": {},
   "outputs": [],
   "source": [
    "i = Incident.objects.get(incident_id=row['incident_id'])"
   ]
  },
  {
   "cell_type": "code",
   "execution_count": 24,
   "id": "41c197e4-8a00-4b6b-a2bc-0dccc3e4d18a",
   "metadata": {},
   "outputs": [
    {
     "data": {
      "text/plain": [
       "23"
      ]
     },
     "execution_count": 24,
     "metadata": {},
     "output_type": "execute_result"
    }
   ],
   "source": [
    "i.incident_id"
   ]
  },
  {
   "cell_type": "code",
   "execution_count": 11,
   "id": "45357bda-682e-4f93-b95b-d8c623f15cde",
   "metadata": {},
   "outputs": [
    {
     "data": {
      "text/plain": [
       "<QuerySet [<Report: Report object (135)>, <Report: Report object (136)>, <Report: Report object (144)>, <Report: Report object (145)>, <Report: Report object (146)>, <Report: Report object (152)>, <Report: Report object (153)>, <Report: Report object (155)>, <Report: Report object (157)>, <Report: Report object (163)>, <Report: Report object (164)>, <Report: Report object (175)>, <Report: Report object (179)>, <Report: Report object (185)>, <Report: Report object (186)>, <Report: Report object (191)>, <Report: Report object (192)>, <Report: Report object (195)>, <Report: Report object (215)>, <Report: Report object (258)>, '...(remaining elements truncated)...']>"
      ]
     },
     "execution_count": 11,
     "metadata": {},
     "output_type": "execute_result"
    }
   ],
   "source": [
    "i.reports.all()"
   ]
  },
  {
   "cell_type": "code",
   "execution_count": 23,
   "id": "8c3daa9b-2a8a-4a38-bf4e-d83b6f3f697a",
   "metadata": {},
   "outputs": [
    {
     "name": "stdout",
     "output_type": "stream",
     "text": [
      "Dozens of Amazon workers have been taken to hospital after a robot tore a can of bear repellent spray, discharging fumes inside a warehouse.\n",
      "\n",
      "Employees at Amazon’s Robbinsville Township warehouse reported trouble breathing and burning sensations in their eyes and throats, a spokesperson for the township told CNN.\n",
      "\n",
      "First responders arrived at the facility on Wednesday after receiving a 911 call saying 54 workers were experiencing symptoms.\n",
      "\n",
      "We’ll tell you what’s true. You can form your own view. From 15p €0.18 $0.18 USD 0.27 a day, more exclusives, analysis and extras.\n",
      "\n",
      "Soon after, an entire wing of the 1.3 million square foot building was evacuated, and 24 workers were sent to local hospitals.\n",
      "\n",
      "An official investigation concluded ”an automated machine accidentally punctured a 9-ounce bear repellent can, releasing concentrated Capsaican”.\n"
     ]
    }
   ],
   "source": [
    "r = Report.objects.get(report_number=145)\n",
    "print(r.text)"
   ]
  },
  {
   "cell_type": "code",
   "execution_count": 20,
   "id": "7527761e-026a-45d8-a152-113605183d4d",
   "metadata": {},
   "outputs": [
    {
     "name": "stdout",
     "output_type": "stream",
     "text": [
      "Search the term \"CEO\" in Google Images and the first picture of woman you get is a picture of Barbie in a suit.\n",
      "\n",
      "This \"gender bias\" has become apparent after a paper was published showing that many image searches for specific occupations favour men or women.\n",
      "\n",
      "The authors of the report say they have found \"stereotype exaggeration and systematic underrepresentation of women in search results\".\n",
      "\n",
      "They have also identified the \"sexy construction worker problem\".\n",
      "\n",
      "This is where female construction workers in their search results \"tended to be sexualised caricatures of construction workers\" who the researches said were \"almost certainly not engaged in the profession they portrayed\".\n",
      "\n",
      "Although the paper focuses on gender representations, the same search also shows that most of the men, and Barbie, are white.\n",
      "\n",
      "The image of Barbie that appears is actually one from spoof news site The Onion, which jokingly reports on Mattel being criticised for encouraging \"young girls to set impractical career goals\".\n",
      "\n",
      "Other search engines, such as Bing, Yahoo and DuckDuckGo also return all-male results on the first page - as first uncovered by The Verge.\n",
      "\n",
      "The BBC's own picture archive, which is used by journalists across the organisation, can show results in a variety of different orders.\n",
      "\n",
      "With the search prioritising newest picture first, multiple images of the CEO of McDonald's Japan - Sarah Casanova - appear.\n",
      "\n",
      "Obviously the priorities for this search a different, with recency being the focus, however in the first 20 pages of results, you also see PepsiCo CEO Indra Nooyi, CEO of the International Culinary Center, Dorothy Cann Hamilton and international leaders such as Angela Merkel.\n",
      "\n",
      "The report's authors, Matthew Kay and Sean A Munson from the University of Washington and Cynthia Matusek from the University of Maryland Baltimore County, say that the minority gender for any given occupation, whether that is a man or a woman, are usually portrayed \"less professionally\" than the majority gender for that role.\n",
      "\n",
      "They claim this fits with how people also perceive results to be better when they match a stereotype they already hold - for example men making for better construction workers.\n",
      "\n",
      "Although fairer representation may improve the real-world balance of genders in different occupations, the report recommends \"balance\" when it comes to the algorithms search engines use.\n",
      "\n",
      "The authors say results which support \"socially desirable outcomes\" may not accurately represent either the available images, or the \"real-world\" numbers of men and women in different careers.\n",
      "\n",
      "Google has declined to comment, while Mattel has yet to respond to Newsbeat's request.\n",
      "\n",
      "Follow @BBCNewsbeat on Twitter, BBCNewsbeat on Instagram, Radio1Newsbeat on YouTube and you can now follow BBC_Newsbeat on Snapchat\n"
     ]
    }
   ],
   "source": []
  },
  {
   "cell_type": "markdown",
   "id": "5f103d3f-876e-4852-a297-b95812986ced",
   "metadata": {},
   "source": [
    "# Reports"
   ]
  },
  {
   "cell_type": "code",
   "execution_count": 16,
   "id": "b88ff8b7-2b18-48ce-9d40-5cc5241e124d",
   "metadata": {},
   "outputs": [],
   "source": [
    "reports_df = read_frame(Report.objects.all())"
   ]
  },
  {
   "cell_type": "code",
   "execution_count": 17,
   "id": "03b4298a-9095-44d5-b050-2f7fca656637",
   "metadata": {},
   "outputs": [
    {
     "data": {
      "text/html": [
       "<div>\n",
       "<style scoped>\n",
       "    .dataframe tbody tr th:only-of-type {\n",
       "        vertical-align: middle;\n",
       "    }\n",
       "\n",
       "    .dataframe tbody tr th {\n",
       "        vertical-align: top;\n",
       "    }\n",
       "\n",
       "    .dataframe thead th {\n",
       "        text-align: right;\n",
       "    }\n",
       "</style>\n",
       "<table border=\"1\" class=\"dataframe\">\n",
       "  <thead>\n",
       "    <tr style=\"text-align: right;\">\n",
       "      <th></th>\n",
       "      <th>id</th>\n",
       "      <th>authors</th>\n",
       "      <th>date_downloaded</th>\n",
       "      <th>date_modified</th>\n",
       "      <th>date_published</th>\n",
       "      <th>date_submitted</th>\n",
       "      <th>description</th>\n",
       "      <th>epoch_date_downloaded</th>\n",
       "      <th>epoch_date_modified</th>\n",
       "      <th>epoch_date_published</th>\n",
       "      <th>epoch_date_submitted</th>\n",
       "      <th>image_url</th>\n",
       "      <th>language</th>\n",
       "      <th>report_number</th>\n",
       "      <th>source_domain</th>\n",
       "      <th>submitters</th>\n",
       "      <th>text</th>\n",
       "      <th>title</th>\n",
       "      <th>url</th>\n",
       "    </tr>\n",
       "  </thead>\n",
       "  <tbody>\n",
       "    <tr>\n",
       "      <th>0</th>\n",
       "      <td>1</td>\n",
       "      <td>[\"Alistair Barr\"]</td>\n",
       "      <td>2019-04-13 00:00:00+00:00</td>\n",
       "      <td>2020-06-14 00:00:00+00:00</td>\n",
       "      <td>2015-05-19 00:00:00+00:00</td>\n",
       "      <td>2019-06-01 00:00:00+00:00</td>\n",
       "      <td>Child and consumer advocacy groups complained ...</td>\n",
       "      <td>None</td>\n",
       "      <td>None</td>\n",
       "      <td>None</td>\n",
       "      <td>None</td>\n",
       "      <td>http://si.wsj.net/public/resources/images/BN-I...</td>\n",
       "      <td>en</td>\n",
       "      <td>1</td>\n",
       "      <td>blogs.wsj.com</td>\n",
       "      <td>Roman Yampolskiy</td>\n",
       "      <td>Child and consumer advocacy groups complained ...</td>\n",
       "      <td>Google’s YouTube Kids App Criticized for ‘Inap...</td>\n",
       "      <td>https://blogs.wsj.com/digits/2015/05/19/google...</td>\n",
       "    </tr>\n",
       "    <tr>\n",
       "      <th>1</th>\n",
       "      <td>2</td>\n",
       "      <td>[\"Sapna Maheshwari\"]</td>\n",
       "      <td>2019-04-13 00:00:00+00:00</td>\n",
       "      <td>2020-06-14 00:00:00+00:00</td>\n",
       "      <td>2018-04-26 00:00:00+00:00</td>\n",
       "      <td>2019-06-01 00:00:00+00:00</td>\n",
       "      <td>Parents will be able to handpick the channels ...</td>\n",
       "      <td>None</td>\n",
       "      <td>None</td>\n",
       "      <td>None</td>\n",
       "      <td>None</td>\n",
       "      <td>https://static01.nyt.com/images/2017/11/07/bus...</td>\n",
       "      <td>en</td>\n",
       "      <td>8</td>\n",
       "      <td>nytimes.com</td>\n",
       "      <td>Roman Yampolskiy</td>\n",
       "      <td>YouTube Kids, which has been criticized for in...</td>\n",
       "      <td>YouTube Kids, Criticized for Content, Introduc...</td>\n",
       "      <td>https://www.nytimes.com/2018/04/25/business/me...</td>\n",
       "    </tr>\n",
       "    <tr>\n",
       "      <th>2</th>\n",
       "      <td>3</td>\n",
       "      <td>[\"K.G Orphanides\"]</td>\n",
       "      <td>2019-04-13 00:00:00+00:00</td>\n",
       "      <td>2020-06-14 00:00:00+00:00</td>\n",
       "      <td>2018-03-23 00:00:00+00:00</td>\n",
       "      <td>2019-06-01 00:00:00+00:00</td>\n",
       "      <td>Children's search terms on YouTube are still a...</td>\n",
       "      <td>None</td>\n",
       "      <td>None</td>\n",
       "      <td>None</td>\n",
       "      <td>None</td>\n",
       "      <td>https://wi-images.condecdn.net/image/ye8GWkPPM...</td>\n",
       "      <td>en</td>\n",
       "      <td>11</td>\n",
       "      <td>wired.co.uk</td>\n",
       "      <td>Roman Yampolskiy</td>\n",
       "      <td>Video still of a reproduced version of Minnie ...</td>\n",
       "      <td>Children's YouTube is still churning out blood...</td>\n",
       "      <td>https://www.wired.co.uk/article/youtube-for-ki...</td>\n",
       "    </tr>\n",
       "    <tr>\n",
       "      <th>3</th>\n",
       "      <td>4</td>\n",
       "      <td>[\"Phoebe Weston\"]</td>\n",
       "      <td>2019-04-13 00:00:00+00:00</td>\n",
       "      <td>2020-06-14 00:00:00+00:00</td>\n",
       "      <td>2018-02-07 00:00:00+00:00</td>\n",
       "      <td>2019-06-01 00:00:00+00:00</td>\n",
       "      <td>Investigators found several unsuitable videos ...</td>\n",
       "      <td>None</td>\n",
       "      <td>None</td>\n",
       "      <td>None</td>\n",
       "      <td>None</td>\n",
       "      <td>https://i.dailymail.co.uk/i/pix/2018/02/06/15/...</td>\n",
       "      <td>en</td>\n",
       "      <td>2</td>\n",
       "      <td>dailymail.co.uk</td>\n",
       "      <td>Roman Yampolskiy</td>\n",
       "      <td>Google-owned YouTube has apologised again afte...</td>\n",
       "      <td>YouTube Kids app is STILL showing disturbing v...</td>\n",
       "      <td>https://www.dailymail.co.uk/sciencetech/articl...</td>\n",
       "    </tr>\n",
       "    <tr>\n",
       "      <th>4</th>\n",
       "      <td>5</td>\n",
       "      <td>[\"James Cook\"]</td>\n",
       "      <td>2019-04-13 00:00:00+00:00</td>\n",
       "      <td>2020-06-14 00:00:00+00:00</td>\n",
       "      <td>2018-03-17 00:00:00+00:00</td>\n",
       "      <td>2019-06-01 00:00:00+00:00</td>\n",
       "      <td>YouTube removed videos from conspiracy theoris...</td>\n",
       "      <td>None</td>\n",
       "      <td>None</td>\n",
       "      <td>None</td>\n",
       "      <td>None</td>\n",
       "      <td>https://amp.businessinsider.com/images/5aaa960...</td>\n",
       "      <td>en</td>\n",
       "      <td>9</td>\n",
       "      <td>businessinsider.com</td>\n",
       "      <td>Roman Yampolskiy</td>\n",
       "      <td>Children were able to watch David Icke's consp...</td>\n",
       "      <td>YouTube suggested conspiracy videos to childre...</td>\n",
       "      <td>https://www.businessinsider.com/youtube-sugges...</td>\n",
       "    </tr>\n",
       "  </tbody>\n",
       "</table>\n",
       "</div>"
      ],
      "text/plain": [
       "   id               authors           date_downloaded  \\\n",
       "0   1     [\"Alistair Barr\"] 2019-04-13 00:00:00+00:00   \n",
       "1   2  [\"Sapna Maheshwari\"] 2019-04-13 00:00:00+00:00   \n",
       "2   3    [\"K.G Orphanides\"] 2019-04-13 00:00:00+00:00   \n",
       "3   4     [\"Phoebe Weston\"] 2019-04-13 00:00:00+00:00   \n",
       "4   5        [\"James Cook\"] 2019-04-13 00:00:00+00:00   \n",
       "\n",
       "              date_modified            date_published  \\\n",
       "0 2020-06-14 00:00:00+00:00 2015-05-19 00:00:00+00:00   \n",
       "1 2020-06-14 00:00:00+00:00 2018-04-26 00:00:00+00:00   \n",
       "2 2020-06-14 00:00:00+00:00 2018-03-23 00:00:00+00:00   \n",
       "3 2020-06-14 00:00:00+00:00 2018-02-07 00:00:00+00:00   \n",
       "4 2020-06-14 00:00:00+00:00 2018-03-17 00:00:00+00:00   \n",
       "\n",
       "             date_submitted  \\\n",
       "0 2019-06-01 00:00:00+00:00   \n",
       "1 2019-06-01 00:00:00+00:00   \n",
       "2 2019-06-01 00:00:00+00:00   \n",
       "3 2019-06-01 00:00:00+00:00   \n",
       "4 2019-06-01 00:00:00+00:00   \n",
       "\n",
       "                                         description epoch_date_downloaded  \\\n",
       "0  Child and consumer advocacy groups complained ...                  None   \n",
       "1  Parents will be able to handpick the channels ...                  None   \n",
       "2  Children's search terms on YouTube are still a...                  None   \n",
       "3  Investigators found several unsuitable videos ...                  None   \n",
       "4  YouTube removed videos from conspiracy theoris...                  None   \n",
       "\n",
       "  epoch_date_modified epoch_date_published epoch_date_submitted  \\\n",
       "0                None                 None                 None   \n",
       "1                None                 None                 None   \n",
       "2                None                 None                 None   \n",
       "3                None                 None                 None   \n",
       "4                None                 None                 None   \n",
       "\n",
       "                                           image_url language  report_number  \\\n",
       "0  http://si.wsj.net/public/resources/images/BN-I...       en              1   \n",
       "1  https://static01.nyt.com/images/2017/11/07/bus...       en              8   \n",
       "2  https://wi-images.condecdn.net/image/ye8GWkPPM...       en             11   \n",
       "3  https://i.dailymail.co.uk/i/pix/2018/02/06/15/...       en              2   \n",
       "4  https://amp.businessinsider.com/images/5aaa960...       en              9   \n",
       "\n",
       "         source_domain        submitters  \\\n",
       "0        blogs.wsj.com  Roman Yampolskiy   \n",
       "1          nytimes.com  Roman Yampolskiy   \n",
       "2          wired.co.uk  Roman Yampolskiy   \n",
       "3      dailymail.co.uk  Roman Yampolskiy   \n",
       "4  businessinsider.com  Roman Yampolskiy   \n",
       "\n",
       "                                                text  \\\n",
       "0  Child and consumer advocacy groups complained ...   \n",
       "1  YouTube Kids, which has been criticized for in...   \n",
       "2  Video still of a reproduced version of Minnie ...   \n",
       "3  Google-owned YouTube has apologised again afte...   \n",
       "4  Children were able to watch David Icke's consp...   \n",
       "\n",
       "                                               title  \\\n",
       "0  Google’s YouTube Kids App Criticized for ‘Inap...   \n",
       "1  YouTube Kids, Criticized for Content, Introduc...   \n",
       "2  Children's YouTube is still churning out blood...   \n",
       "3  YouTube Kids app is STILL showing disturbing v...   \n",
       "4  YouTube suggested conspiracy videos to childre...   \n",
       "\n",
       "                                                 url  \n",
       "0  https://blogs.wsj.com/digits/2015/05/19/google...  \n",
       "1  https://www.nytimes.com/2018/04/25/business/me...  \n",
       "2  https://www.wired.co.uk/article/youtube-for-ki...  \n",
       "3  https://www.dailymail.co.uk/sciencetech/articl...  \n",
       "4  https://www.businessinsider.com/youtube-sugges...  "
      ]
     },
     "execution_count": 17,
     "metadata": {},
     "output_type": "execute_result"
    }
   ],
   "source": [
    "reports_df.head()"
   ]
  },
  {
   "cell_type": "code",
   "execution_count": null,
   "id": "c234d65a-0411-4d93-ab51-2da1c25c7886",
   "metadata": {},
   "outputs": [],
   "source": []
  }
 ],
 "metadata": {
  "kernelspec": {
   "display_name": "aiid_django",
   "language": "python",
   "name": "django_extensions"
  },
  "language_info": {
   "codemirror_mode": {
    "name": "ipython",
    "version": 3
   },
   "file_extension": ".py",
   "mimetype": "text/x-python",
   "name": "python",
   "nbconvert_exporter": "python",
   "pygments_lexer": "ipython3",
   "version": "3.10.5"
  }
 },
 "nbformat": 4,
 "nbformat_minor": 5
}
